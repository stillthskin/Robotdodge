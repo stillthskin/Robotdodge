{
  "nbformat": 4,
  "nbformat_minor": 0,
  "metadata": {
    "colab": {
      "name": "Untitled0.ipynb",
      "provenance": [],
      "collapsed_sections": []
    },
    "kernelspec": {
      "name": "python3",
      "display_name": "Python 3"
    },
    "language_info": {
      "name": "python"
    }
  },
  "cells": [
    {
      "cell_type": "code",
      "execution_count": 3,
      "metadata": {
        "colab": {
          "base_uri": "https://localhost:8080/"
        },
        "id": "dlW3OsC7skl9",
        "outputId": "cb400c08-cb25-4f8c-b2cc-7749a011088f"
      },
      "outputs": [
        {
          "output_type": "stream",
          "name": "stdout",
          "text": [
            "Menu: 1. Print, 2. Deposit, 3. Widthraw1\n",
            "self.name, self.balance\n"
          ]
        }
      ],
      "source": [
        "class Account:\n",
        "  def __init__(self, name, startingBalance):\n",
        "    self.name = name\n",
        "    self.balance = startingBalance\n",
        "  def print_acount(self):\n",
        "    print(f\"self.name, self.balance\")\n",
        "  def Deposit(self, amount):\n",
        "    self.balance = self.balance + amount\n",
        "    return self.balance\n",
        "  def Widthraw(self, amount):\n",
        "    self.balance = self.balance - amount\n",
        "    return self.balance\n",
        "class main:\n",
        "  Account_1 = Account(\"Fred\", 100)\n",
        "  Account_2 = Account(\"Jane\", 120)\n",
        "  num = int(input(\"Menu: 1. Print, 2. Deposit, 3. Widthraw\"))\n",
        "  if num == 1:\n",
        "    Account_1.print_acount()\n",
        "  elif num == 2:\n",
        "    amount = int(input(\"Enter amount to deposit: \"))\n",
        "    Account_1.Deposit(amount)\n",
        "  elif num == 3:\n",
        "    \n",
        "  else:\n",
        "    print(\"invalid input try again.\")\n",
        "  \n",
        "  "
      ]
    },
    {
      "cell_type": "code",
      "execution_count": null,
      "metadata": {
        "colab": {
          "base_uri": "https://localhost:8080/"
        },
        "outputId": "cb400c08-cb25-4f8c-b2cc-7749a011088f",
        "id": "ruYyGwr3xuoV"
      },
      "outputs": [
        {
          "output_type": "stream",
          "name": "stdout",
          "text": [
            "Menu: 1. Print, 2. Deposit, 3. Widthraw1\n",
            "self.name, self.balance\n"
          ]
        }
      ],
      "source": [
        "class Account:\n",
        "  def __init__(self, name, startingBalance):\n",
        "    self.name = name\n",
        "    self.balance = startingBalance\n",
        "  def print_acount(self):\n",
        "    print(f\"self.name, self.balance\")\n",
        "  def Deposit(self, amount):\n",
        "    self.balance = self.balance + amount\n",
        "    return self.balance\n",
        "  def Widthraw(self, amount):\n",
        "    self.balance = self.balance - amount\n",
        "    return self.balance\n",
        "class main:\n",
        "  Account_1 = Account(\"Fred\", 100)\n",
        "  Account_2 = Account(\"Jane\", 120)\n",
        "  num = int(input(\"Menu: 1. Print, 2. Deposit, 3. Widthraw\"))\n",
        "  if num == 1:\n",
        "    Account_1.print_acount()\n",
        "  elif num == 2:\n",
        "    amount = int(input(\"Enter amount to deposit: \"))\n",
        "    Account_1.Deposit(amount)\n",
        "  elif num == 3:\n",
        "    \n",
        "  else:\n",
        "    print(\"invalid input try again.\")\n",
        "  \n",
        "  "
      ]
    },
    {
      "cell_type": "code",
      "execution_count": 7,
      "metadata": {
        "colab": {
          "base_uri": "https://localhost:8080/"
        },
        "outputId": "fdb44613-4c10-46d7-8bf8-fdaff641aea2",
        "id": "AWKuyZvYx0jg"
      },
      "outputs": [
        {
          "output_type": "stream",
          "name": "stdout",
          "text": [
            "Menu: 1. Print, 2. Deposit, 3. Widthraw   2\n",
            "Enter amount to deposit: 200\n",
            "Deposit Succesful.\n",
            "300\n"
          ]
        }
      ],
      "source": [
        "class Account:\n",
        "  def __init__(self, name, startingBalance):\n",
        "    self.name = name\n",
        "    self.balance = startingBalance\n",
        "  def print_acount(self):\n",
        "    print(f\"self.name, self.balance\")\n",
        "  def Deposit(self, amount):\n",
        "    self.balance = self.balance + amount\n",
        "    print(\"Deposit Succesful.\")\n",
        "    print(self.balance)\n",
        "    return self.balance\n",
        "  def Widthraw(self, amount):\n",
        "    self.balance = self.balance - amount\n",
        "    print(\"Widthraw Succesful.\")\n",
        "    print(self.balance)\n",
        "    return self.balance\n",
        "class main:\n",
        "  Account_1 = Account(\"Fred\", 100)\n",
        "  Account_2 = Account(\"Jane\", 120)\n",
        "  num = int(input(\"Menu: 1. Print, 2. Deposit, 3. Widthraw   \"))\n",
        "  if num == 1:\n",
        "    Account_1.print_acount()\n",
        "  elif num == 2:\n",
        "    amount = int(input(\"Enter amount to deposit: \"))\n",
        "    Account_1.Deposit(amount)\n",
        "  elif num == 3:\n",
        "    amount = int(input(\"Enter amount to widthraw: \"))\n",
        "    Account_1.Widthraw(amount)\n",
        "  else:\n",
        "    print(\"invalid input try again.\")\n",
        "  \n",
        "  "
      ]
    }
  ]
}